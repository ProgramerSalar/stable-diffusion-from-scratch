{
 "cells": [
  {
   "cell_type": "code",
   "execution_count": 18,
   "id": "f0991cf2",
   "metadata": {},
   "outputs": [],
   "source": [
    "ckpt_path = \"lightning_logs/version_0/checkpoints/epoch=9-step=9610.ckpt\"\n",
    "config_path = \"kl-f4.yaml\" \n",
    "\n",
    "\n",
    "\n",
    "import torch \n",
    "from torch import nn \n",
    "import numpy as np \n",
    "from PIL import Image \n",
    "import torchvision.transforms as T \n",
    "import matplotlib.pyplot as plt \n"
   ]
  },
  {
   "cell_type": "code",
   "execution_count": 10,
   "id": "404b074f",
   "metadata": {},
   "outputs": [
    {
     "name": "stderr",
     "output_type": "stream",
     "text": [
      "/home/manish/anaconda3/envs/cuda121/lib/python3.10/site-packages/tqdm/auto.py:21: TqdmWarning: IProgress not found. Please update jupyter and ipywidgets. See https://ipywidgets.readthedocs.io/en/stable/user_install.html\n",
      "  from .autonotebook import tqdm as notebook_tqdm\n"
     ]
    }
   ],
   "source": [
    "import sys\n",
    "import os\n",
    "sys.path.append(os.path.abspath(os.path.join(os.getcwd(), '..')))\n",
    "\n",
    "from VAE.test import load_model_from_config, test_forward_pass, visualize_results"
   ]
  },
  {
   "cell_type": "code",
   "execution_count": 21,
   "id": "f15365a1",
   "metadata": {},
   "outputs": [
    {
     "name": "stdout",
     "output_type": "stream",
     "text": [
      "what is the input channels to the GroupNorm:  128\n",
      "what is the input channels to the GroupNorm:  128\n",
      "what is the input channels to the GroupNorm:  128\n",
      "what is the input channels to the GroupNorm:  128\n",
      "what is the input channels to the GroupNorm:  128\n",
      "what is the input channels to the GroupNorm:  256\n",
      "what is the input channels to the GroupNorm:  256\n",
      "what is the input channels to the GroupNorm:  256\n",
      "what is the input channels to the GroupNorm:  256\n",
      "what is the input channels to the GroupNorm:  512\n",
      "what is the input channels to the GroupNorm:  512\n",
      "what is the input channels to the GroupNorm:  512\n",
      "what is the input channels to the GroupNorm:  512\n",
      "what is the input channels to the GroupNorm:  512\n",
      "what is the input channels to the GroupNorm:  512\n",
      "what is the input channels to the GroupNorm:  512\n",
      "what is the input channels to the GroupNorm:  512\n",
      "Working with z of shape (1, 3, 64, 64) = 12288 dimensions.\n",
      "what is the input channels to the GroupNorm:  512\n",
      "what is the input channels to the GroupNorm:  512\n",
      "what is the input channels to the GroupNorm:  512\n",
      "what is the input channels to the GroupNorm:  512\n",
      "what is the input channels to the GroupNorm:  512\n",
      "what is the input channels to the GroupNorm:  512\n",
      "what is the input channels to the GroupNorm:  512\n",
      "what is the input channels to the GroupNorm:  512\n",
      "what is the input channels to the GroupNorm:  512\n",
      "what is the input channels to the GroupNorm:  512\n",
      "what is the input channels to the GroupNorm:  512\n",
      "what is the input channels to the GroupNorm:  256\n",
      "what is the input channels to the GroupNorm:  256\n",
      "what is the input channels to the GroupNorm:  256\n",
      "what is the input channels to the GroupNorm:  256\n",
      "what is the input channels to the GroupNorm:  256\n",
      "what is the input channels to the GroupNorm:  256\n",
      "what is the input channels to the GroupNorm:  128\n",
      "what is the input channels to the GroupNorm:  128\n",
      "what is the input channels to the GroupNorm:  128\n",
      "what is the input channels to the GroupNorm:  128\n",
      "what is the input channels to the GroupNorm:  128\n",
      "what is the input channels to the GroupNorm:  128\n",
      "config:  {'target': 'VAE.loss.LPIPSWithDiscriminator', 'params': {'disc_start': 50001, 'kl_weight': 1e-06, 'disc_weight': 0.5}}\n"
     ]
    },
    {
     "name": "stderr",
     "output_type": "stream",
     "text": [
      "/home/manish/anaconda3/envs/cuda121/lib/python3.10/site-packages/torchvision/models/_utils.py:208: UserWarning: The parameter 'pretrained' is deprecated since 0.13 and may be removed in the future, please use 'weights' instead.\n",
      "  warnings.warn(\n",
      "/home/manish/anaconda3/envs/cuda121/lib/python3.10/site-packages/torchvision/models/_utils.py:223: UserWarning: Arguments other than a weight enum or `None` for 'weights' are deprecated since 0.13 and may be removed in the future. The current behavior is equivalent to passing `weights=VGG16_Weights.IMAGENET1K_V1`. You can also use `weights=VGG16_Weights.DEFAULT` to get the most up-to-date weights.\n",
      "  warnings.warn(msg)\n"
     ]
    },
    {
     "name": "stdout",
     "output_type": "stream",
     "text": [
      "Downloading vgg_lpips model from https://heibox.uni-heidelberg.de/f/607503859c864bc1b30b/?dl=1 to ./Lpips/vgg.pth\n"
     ]
    },
    {
     "name": "stderr",
     "output_type": "stream",
     "text": [
      "8.19kB [00:00, 468kB/s]"
     ]
    },
    {
     "name": "stdout",
     "output_type": "stream",
     "text": [
      "Loaded pretrained LPIPS loss from ./Lpips/vgg.pth\n",
      "\n",
      " 🚀 Testing forward pass...\n",
      "⚠️ Image loading failed: [Errno 2] No such file or directory: '/home/manish/Desktop/stable-diffusion/stable-diffusion-from-scratch/VAE/VAE/test/test_image.jpg'\n",
      "Using random input instead.\n",
      "conv_in:  Conv2d(3, 128, kernel_size=(3, 3), stride=(1, 1), padding=(1, 1))\n",
      "input data:  tensor([[[[ 0.3275,  0.6385, -0.1873,  ..., -1.8753,  0.1483,  1.3375],\n",
      "          [ 0.6710,  1.8002,  1.7411,  ...,  0.3562,  0.1942, -0.4125],\n",
      "          [ 1.4121, -0.4553, -0.3585,  ..., -0.6922, -1.1982,  0.0245],\n",
      "          ...,\n",
      "          [-1.5077, -0.6317,  0.5501,  ..., -0.4507, -1.0071, -0.7982],\n",
      "          [-0.1250,  1.1817,  0.6996,  ...,  0.1210,  0.8158,  2.2288],\n",
      "          [ 0.0669,  0.2701, -0.9693,  ...,  0.7136, -1.0055,  1.5202]],\n",
      "\n",
      "         [[ 0.3794, -0.5046, -0.0565,  ..., -3.0047, -0.6565,  0.1679],\n",
      "          [-0.7917, -0.9889,  0.6271,  ...,  0.6083,  0.0185, -0.0223],\n",
      "          [ 0.4772, -1.1090, -0.3636,  ...,  1.1370,  0.6413,  1.5757],\n",
      "          ...,\n",
      "          [ 0.5906,  0.0559, -0.6738,  ..., -0.2722,  0.0373,  0.5894],\n",
      "          [ 0.8651, -0.2514, -0.0174,  ..., -0.7202,  0.3142, -1.3448],\n",
      "          [-0.5139,  0.2321, -1.3872,  ...,  0.1271,  0.0966,  0.1724]],\n",
      "\n",
      "         [[-0.6461, -0.3267,  0.2100,  ...,  1.9609, -1.4560,  0.8126],\n",
      "          [ 1.3869,  1.6693,  0.3403,  ..., -1.1199, -0.4914,  0.3795],\n",
      "          [-0.3589, -0.1923, -0.4033,  ..., -0.5656, -0.8446, -0.5507],\n",
      "          ...,\n",
      "          [ 0.4016,  0.8193,  0.3946,  ...,  0.6336,  1.2159, -0.7897],\n",
      "          [-0.9574, -1.0740, -0.8795,  ..., -1.3432, -1.7051,  0.3912],\n",
      "          [ 1.4893,  0.3120,  0.2761,  ..., -1.0363,  0.3232, -0.5252]]]],\n",
      "       device='cuda:0')\n",
      "❌ Forward pass failed: Input type (float) and bias type (c10::Half) should be the same\n",
      "original Image:  (256, 256, 3)\n"
     ]
    },
    {
     "name": "stderr",
     "output_type": "stream",
     "text": [
      "\n",
      "/home/manish/Desktop/stable-diffusion/stable-diffusion-from-scratch/Lpips/lpips.py:162: FutureWarning: You are using `torch.load` with `weights_only=False` (the current default value), which uses the default pickle module implicitly. It is possible to construct malicious pickle data which will execute arbitrary code during unpickling (See https://github.com/pytorch/pytorch/blob/main/SECURITY.md#untrusted-models for more details). In a future release, the default value for `weights_only` will be flipped to `True`. This limits the functions that could be executed during unpickling. Arbitrary objects will no longer be allowed to be loaded via this mode unless they are explicitly allowlisted by the user via `torch.serialization.add_safe_globals`. We recommend you start setting `weights_only=True` for any use case where you don't have full control of the loaded file. Please open an issue on GitHub for any issues related to this experimental feature.\n",
      "  self.load_state_dict(torch.load(ckpt, map_location=torch.device(\"cpu\")), strict=False)\n"
     ]
    },
    {
     "ename": "AttributeError",
     "evalue": "'NoneType' object has no attribute 'dtype'",
     "output_type": "error",
     "traceback": [
      "\u001b[0;31m---------------------------------------------------------------------------\u001b[0m",
      "\u001b[0;31mAttributeError\u001b[0m                            Traceback (most recent call last)",
      "Cell \u001b[0;32mIn[21], line 17\u001b[0m\n\u001b[1;32m     15\u001b[0m model \u001b[38;5;241m=\u001b[39m load_model_from_config(config_path\u001b[38;5;241m=\u001b[39mconfig_path)\n\u001b[1;32m     16\u001b[0m THE_test_forward_path \u001b[38;5;241m=\u001b[39m test_forward_pass(model\u001b[38;5;241m=\u001b[39mmodel, use_real_image\u001b[38;5;241m=\u001b[39m\u001b[38;5;28;01mTrue\u001b[39;00m)\n\u001b[0;32m---> 17\u001b[0m THE_result_visualize \u001b[38;5;241m=\u001b[39m \u001b[43mvisualize_results\u001b[49m\u001b[43m(\u001b[49m\u001b[43moriginal\u001b[49m\u001b[38;5;241;43m=\u001b[39;49m\u001b[43mx\u001b[49m\u001b[43m,\u001b[49m\u001b[43m \u001b[49m\u001b[43mreconstruction\u001b[49m\u001b[38;5;241;43m=\u001b[39;49m\u001b[43mTHE_test_forward_path\u001b[49m\u001b[43m)\u001b[49m\n\u001b[1;32m     18\u001b[0m \u001b[38;5;28mprint\u001b[39m(THE_result_visualize)\n",
      "File \u001b[0;32m~/Desktop/stable-diffusion/stable-diffusion-from-scratch/VAE/test.py:213\u001b[0m, in \u001b[0;36mvisualize_results\u001b[0;34m(original, reconstruction)\u001b[0m\n\u001b[1;32m    210\u001b[0m \u001b[38;5;28mprint\u001b[39m(\u001b[38;5;124m\"\u001b[39m\u001b[38;5;124moriginal Image: \u001b[39m\u001b[38;5;124m\"\u001b[39m, original\u001b[38;5;241m.\u001b[39mshape)\n\u001b[1;32m    212\u001b[0m \u001b[38;5;66;03m# process reconstruction\u001b[39;00m\n\u001b[0;32m--> 213\u001b[0m \u001b[38;5;28;01mif\u001b[39;00m \u001b[43mreconstruction\u001b[49m\u001b[38;5;241;43m.\u001b[39;49m\u001b[43mdtype\u001b[49m \u001b[38;5;241m==\u001b[39m np\u001b[38;5;241m.\u001b[39mfloat16:\n\u001b[1;32m    214\u001b[0m     reconstruction \u001b[38;5;241m=\u001b[39m reconstruction\u001b[38;5;241m.\u001b[39mastype(np\u001b[38;5;241m.\u001b[39mfloat16)\n\u001b[1;32m    215\u001b[0m     \u001b[38;5;66;03m# print(\"Reconstruction Image: \", reconstruction.dtype)\u001b[39;00m\n\u001b[1;32m    216\u001b[0m \n\u001b[1;32m    217\u001b[0m \u001b[38;5;66;03m# print(\"what is the shape of reconstucted image: \", reconstruction.shape)\u001b[39;00m\n",
      "\u001b[0;31mAttributeError\u001b[0m: 'NoneType' object has no attribute 'dtype'"
     ]
    }
   ],
   "source": [
    "import os\n",
    "\n",
    "\n",
    "\n",
    "img = Image.open('test/test_image.jpg')\n",
    "transform = T.Compose([\n",
    "                T.Resize(256),\n",
    "                T.CenterCrop(256),\n",
    "                T.ToTensor(),\n",
    "                T.Normalize([0.5, 0.5, 0.5], [0.5, 0.5, 0.5])\n",
    "            ])\n",
    "x = transform(img).unsqueeze(0).cuda().half()\n",
    "    # print(\"real Image: \", x)\n",
    "\n",
    "model = load_model_from_config(config_path=config_path)\n",
    "THE_test_forward_path = test_forward_pass(model=model, use_real_image=True)\n",
    "THE_result_visualize = visualize_results(original=x, reconstruction=THE_test_forward_path)\n",
    "print(THE_result_visualize)"
   ]
  },
  {
   "cell_type": "code",
   "execution_count": 3,
   "id": "9ac60211",
   "metadata": {},
   "outputs": [
    {
     "data": {
      "text/plain": [
       "Parameter containing:\n",
       "tensor(0., requires_grad=True)"
      ]
     },
     "execution_count": 3,
     "metadata": {},
     "output_type": "execute_result"
    }
   ],
   "source": [
    "from torch import nn \n",
    "import torch \n",
    "\n",
    "logvar_init = 0.0\n",
    "logvar = nn.Parameter(torch.ones(size=()) * logvar_init)\n",
    "logvar"
   ]
  }
 ],
 "metadata": {
  "kernelspec": {
   "display_name": "cuda121",
   "language": "python",
   "name": "python3"
  },
  "language_info": {
   "codemirror_mode": {
    "name": "ipython",
    "version": 3
   },
   "file_extension": ".py",
   "mimetype": "text/x-python",
   "name": "python",
   "nbconvert_exporter": "python",
   "pygments_lexer": "ipython3",
   "version": "3.10.16"
  }
 },
 "nbformat": 4,
 "nbformat_minor": 5
}
