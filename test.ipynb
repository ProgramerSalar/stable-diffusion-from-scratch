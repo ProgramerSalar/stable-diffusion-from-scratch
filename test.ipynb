{
 "cells": [
  {
   "cell_type": "code",
   "execution_count": 1,
   "id": "466e9b21",
   "metadata": {},
   "outputs": [
    {
     "name": "stdout",
     "output_type": "stream",
     "text": [
      "<class 'tuple'>\n"
     ]
    }
   ],
   "source": [
    "data = (1, 2, 3)\n",
    "print(type(data))"
   ]
  },
  {
   "cell_type": "code",
   "execution_count": 4,
   "id": "6297866f",
   "metadata": {},
   "outputs": [
    {
     "name": "stdout",
     "output_type": "stream",
     "text": [
      "<class 'tuple'>\n"
     ]
    }
   ],
   "source": [
    "data = (1) # this is integer \n",
    "data = (1,) # this is tuple\n",
    "print(type(data))"
   ]
  },
  {
   "cell_type": "code",
   "execution_count": 1,
   "id": "4adecec9",
   "metadata": {},
   "outputs": [
    {
     "data": {
      "text/plain": [
       "3"
      ]
     },
     "execution_count": 1,
     "metadata": {},
     "output_type": "execute_result"
    }
   ],
   "source": [
    "my_tuple = (1, 2, 3)\n",
    "my_tuple_list = list(my_tuple) # Convert to list\n",
    "my_tuple_list.pop() # Now you can use pop()"
   ]
  },
  {
   "cell_type": "code",
   "execution_count": 1,
   "id": "24b32802",
   "metadata": {},
   "outputs": [
    {
     "data": {
      "text/plain": [
       "2"
      ]
     },
     "execution_count": 1,
     "metadata": {},
     "output_type": "execute_result"
    }
   ],
   "source": [
    "list = [1, 2]\n",
    "pop_element = list.pop()\n",
    "pop_element"
   ]
  },
  {
   "cell_type": "code",
   "execution_count": 1,
   "id": "3edd4cb5",
   "metadata": {},
   "outputs": [
    {
     "name": "stdout",
     "output_type": "stream",
     "text": [
      "[1, 4, 9]\n"
     ]
    }
   ],
   "source": [
    "from multiprocessing import Pool\n",
    "\n",
    "def f(x):\n",
    "    return x*x\n",
    "\n",
    "if __name__ == '__main__':\n",
    "    with Pool(5) as p:\n",
    "        print(p.map(f, [1, 2, 3]))"
   ]
  },
  {
   "cell_type": "code",
   "execution_count": 2,
   "id": "4ce17430",
   "metadata": {},
   "outputs": [
    {
     "name": "stdout",
     "output_type": "stream",
     "text": [
      "hello bob\n"
     ]
    }
   ],
   "source": [
    "from multiprocessing import Process\n",
    "\n",
    "def f(name):\n",
    "    print('hello', name)\n",
    "\n",
    "if __name__ == '__main__':\n",
    "    p = Process(target=f, args=('bob',))\n",
    "    p.start()\n",
    "    p.join()"
   ]
  },
  {
   "cell_type": "code",
   "execution_count": 1,
   "id": "43a51e13",
   "metadata": {},
   "outputs": [
    {
     "name": "stdout",
     "output_type": "stream",
     "text": [
      "main line\n",
      "module name: __main__\n",
      "parent process: 4628\n",
      "process id: 27828\n",
      "function f\n",
      "module name: __main__\n",
      "parent process: 27828\n",
      "process id: 27841\n",
      "hello bob\n"
     ]
    }
   ],
   "source": [
    "from multiprocessing import Process\n",
    "import os\n",
    "\n",
    "def info(title):\n",
    "    print(title)\n",
    "    print('module name:', __name__)\n",
    "    print('parent process:', os.getppid())\n",
    "    print('process id:', os.getpid())\n",
    "\n",
    "def f(name):\n",
    "    info('function f')\n",
    "    print('hello', name)\n",
    "\n",
    "if __name__ == '__main__':\n",
    "    info('main line')\n",
    "    p = Process(target=f, args=('bob',))\n",
    "    p.start()\n",
    "    p.join()"
   ]
  },
  {
   "cell_type": "code",
   "execution_count": 1,
   "id": "97c106bd",
   "metadata": {},
   "outputs": [],
   "source": [
    "import multiprocessing as mp\n",
    "\n",
    "def foo(q):\n",
    "    q.put('hello')\n",
    "\n"
   ]
  },
  {
   "cell_type": "code",
   "execution_count": 5,
   "id": "f43a4502",
   "metadata": {},
   "outputs": [
    {
     "name": "stdout",
     "output_type": "stream",
     "text": [
      "deque([1, 2, 3])\n"
     ]
    },
    {
     "data": {
      "text/plain": [
       "1"
      ]
     },
     "execution_count": 5,
     "metadata": {},
     "output_type": "execute_result"
    }
   ],
   "source": [
    "from collections import deque\n",
    "\n",
    "# Create a queue\n",
    "my_queue = deque()\n",
    "\n",
    "# Enqueue elements\n",
    "my_queue.append(1)\n",
    "my_queue.append(2)\n",
    "my_queue.append(3)\n",
    "\n",
    "print(my_queue)\n",
    "\n",
    "# Dequeue elements\n",
    "first_element = my_queue.popleft() # Returns 1\n",
    "second_element = my_queue.popleft() # Returns 2\n",
    "\n",
    "# Peek at the front element\n",
    "front_element = my_queue[0] # Returns 3\n",
    "\n",
    "# Check if the queue is empty\n",
    "is_empty = len(my_queue) == 0 # Returns False\n",
    "\n",
    "# Get the size of the queue\n",
    "size = len(my_queue) # Returns 1\n",
    "size"
   ]
  },
  {
   "cell_type": "code",
   "execution_count": 7,
   "id": "e298eb73",
   "metadata": {},
   "outputs": [],
   "source": [
    "from dataclasses import dataclass, field\n",
    "from typing import Any\n",
    "\n",
    "@dataclass(order=True)\n",
    "class PrioritizedItem:\n",
    "    priority: int\n",
    "    item: Any=field(compare=False)\n"
   ]
  },
  {
   "cell_type": "code",
   "execution_count": 8,
   "id": "2df13999",
   "metadata": {},
   "outputs": [
    {
     "name": "stdout",
     "output_type": "stream",
     "text": [
      "Working on 0\n",
      "Finished 0\n",
      "Working on 1\n",
      "Finished 1\n",
      "Working on 2\n",
      "Finished 2\n",
      "Working on 3\n",
      "Finished 3\n",
      "Working on 4\n",
      "Finished 4\n",
      "Working on 5\n",
      "Finished 5\n",
      "Working on 6\n",
      "Finished 6\n",
      "Working on 7\n",
      "Finished 7\n",
      "Working on 8\n",
      "Finished 8\n",
      "Working on 9\n",
      "Finished 9\n",
      "Working on 10\n",
      "Finished 10\n",
      "Working on 11\n",
      "Finished 11\n",
      "Working on 12\n",
      "Finished 12\n",
      "Working on 13\n",
      "Finished 13\n",
      "Working on 14\n",
      "Finished 14\n",
      "Working on 15\n",
      "Finished 15\n",
      "Working on 16\n",
      "Finished 16\n",
      "Working on 17\n",
      "Finished 17\n",
      "Working on 18\n",
      "Finished 18\n",
      "Working on 19\n",
      "Finished 19\n",
      "Working on 20\n",
      "Finished 20\n",
      "Working on 21\n",
      "Finished 21\n",
      "Working on 22\n",
      "Finished 22\n",
      "Working on 23\n",
      "Finished 23\n",
      "Working on 24\n",
      "Finished 24\n",
      "Working on 25\n",
      "Finished 25\n",
      "Working on 26\n",
      "Finished 26\n",
      "Working on 27\n",
      "Finished 27\n",
      "Working on 28\n",
      "Finished 28\n",
      "Working on 29\n",
      "Finished 29\n",
      "All work completed\n"
     ]
    }
   ],
   "source": [
    "import threading\n",
    "import queue\n",
    "\n",
    "q = queue.Queue()\n",
    "\n",
    "def worker():\n",
    "    while True:\n",
    "        item = q.get()\n",
    "        print(f'Working on {item}')\n",
    "        print(f'Finished {item}')\n",
    "        q.task_done()\n",
    "\n",
    "# Turn-on the worker thread.\n",
    "threading.Thread(target=worker, daemon=True).start()\n",
    "\n",
    "# Send thirty task requests to the worker.\n",
    "for item in range(30):\n",
    "    q.put(item)\n",
    "\n",
    "# Block until all tasks are done.\n",
    "q.join()\n",
    "print('All work completed')"
   ]
  },
  {
   "cell_type": "code",
   "execution_count": 3,
   "id": "565b1e16",
   "metadata": {},
   "outputs": [
    {
     "data": {
      "text/plain": [
       "37"
      ]
     },
     "execution_count": 3,
     "metadata": {},
     "output_type": "execute_result"
    }
   ],
   "source": [
    "from functools import partial\n",
    "\n",
    "\n",
    "basetwo = partial(int, base=2)\n",
    "basetwo.__doc__ = \"convert base 2 string to an int.\"\n",
    "\n",
    "basetwo('100101')"
   ]
  },
  {
   "cell_type": "markdown",
   "id": "4a85da00",
   "metadata": {},
   "source": [
    "The code uses `partial` from `functools` to create a specialized version of the `int()` function. Here's a breakdown and the output explanation:\n",
    "\n",
    "### Key Points:\n",
    "1. **`partial(int, base=2)`**:\n",
    "   - Creates a new function (`basetwo`) that calls `int()` with `base=2` as a fixed argument.\n",
    "   - This function converts a **binary string** (base-2) to an integer.\n",
    "\n",
    "2. **Setting `__doc__`**:\n",
    "   - `basetwo.__doc__ = \"...\"` adds a documentation string to the new function (purely for readability).\n",
    "\n",
    "3. **Calling `basetwo('10010')`**:\n",
    "   - Converts the binary string `'10010'` to its decimal (base-10) integer equivalent.\n",
    "\n",
    "### How the Conversion Works:\n",
    "- Binary `'10010'` is interpreted as:\n",
    "  ```\n",
    "  1*(2^4) + 0*(2^3) + 0*(2^2) + 1*(2^1) + 0*(2^0)\n",
    "  = 16 + 0 + 0 + 2 + 0\n",
    "  = 18\n",
    "  ```\n",
    "\n",
    "### Output:\n",
    "The result of `basetwo('10010')` is the integer **`18`**.\n",
    "\n",
    "### Why This is Useful:\n",
    "- `basetwo` is now a reusable function that converts **any binary string** to an integer:\n",
    "  ```python\n",
    "  print(basetwo('1111'))   # 15 (1+2+4+8)\n",
    "  print(basetwo('1010'))   # 10\n",
    "  ```\n",
    "\n",
    "### Equivalent Code Without `partial`:\n",
    "```python\n",
    "def basetwo(s):\n",
    "    return int(s, base=2)\n",
    "\n",
    "print(basetwo('10010'))  # Output: 18\n",
    "```\n",
    "\n",
    "In summary: **`basetwo('10010')` returns `18`** because it converts the binary string `\"10010\"` to its decimal equivalent."
   ]
  },
  {
   "cell_type": "code",
   "execution_count": 17,
   "id": "3f8e7c30",
   "metadata": {},
   "outputs": [],
   "source": [
    "import os\n",
    "\n",
    "data_root = \"/home/manish/Desktop/stable-diffusion/stable-diffusion-from-scratch/Diffusion/bedroom/validation\"\n",
    "txt_file = \"lsun_bedrooms.txt\"\n",
    "\n",
    "import os\n",
    "\n",
    "def generate_lsun_txt(data_root, output_file):\n",
    "    \"\"\"\n",
    "    Creates a text file listing all image paths in the LSUN Bedrooms dataset\n",
    "    \n",
    "    Args:\n",
    "        data_root: Path to the LSUN Bedrooms directory\n",
    "        output_file: Path for the output text file\n",
    "    \"\"\"\n",
    "    image_extensions = ('.jpg', '.jpeg', '.png', '.webp')\n",
    "    \n",
    "    with open(output_file, 'w') as f:\n",
    "        # Traverse through all subdirectories\n",
    "        for root, _, files in os.walk(data_root):\n",
    "            for file in files:\n",
    "                if file.lower().endswith(image_extensions):\n",
    "                    # Write absolute path to file\n",
    "                    f.write(os.path.abspath(os.path.join(root, file)) + '\\n')\n",
    "\n",
    "# Example usage:\n",
    "generate_lsun_txt(\n",
    "    data_root=data_root, \n",
    "    output_file=\"lsun_bedroom_validation.txt\"\n",
    ")"
   ]
  },
  {
   "cell_type": "markdown",
   "id": "44a215b3",
   "metadata": {},
   "source": [
    "## torch.pad_sequence()"
   ]
  },
  {
   "cell_type": "code",
   "execution_count": 2,
   "id": "8222b776",
   "metadata": {},
   "outputs": [
    {
     "data": {
      "text/plain": [
       "torch.Size([25, 3, 300])"
      ]
     },
     "execution_count": 2,
     "metadata": {},
     "output_type": "execute_result"
    }
   ],
   "source": [
    "from torch.nn.utils.rnn import pad_sequence\n",
    "import torch \n",
    "a = torch.ones(25, 300)\n",
    "b = torch.ones(22, 300)\n",
    "c = torch.ones(15, 300)\n",
    "pad_sequence([a, b, c]).size()\n",
    "\n"
   ]
  }
 ],
 "metadata": {
  "kernelspec": {
   "display_name": "cuda121",
   "language": "python",
   "name": "python3"
  },
  "language_info": {
   "codemirror_mode": {
    "name": "ipython",
    "version": 3
   },
   "file_extension": ".py",
   "mimetype": "text/x-python",
   "name": "python",
   "nbconvert_exporter": "python",
   "pygments_lexer": "ipython3",
   "version": "3.10.16"
  }
 },
 "nbformat": 4,
 "nbformat_minor": 5
}
