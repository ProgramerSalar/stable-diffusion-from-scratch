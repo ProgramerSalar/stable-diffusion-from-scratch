{
 "cells": [
  {
   "cell_type": "code",
   "execution_count": 6,
   "id": "15a4a3b1",
   "metadata": {},
   "outputs": [
    {
     "name": "stdout",
     "output_type": "stream",
     "text": [
      "torch.Size([1, 3, 257])\n"
     ]
    }
   ],
   "source": [
    "import torch \n",
    "from torch import nn \n",
    "\n",
    "\n",
    "tensor1 = torch.randn(1, 3, 256)\n",
    "tensor2 = torch.ones_like(tensor1)\n",
    "tensor3 = torch.randn(1, 3, 1)\n",
    "\n",
    "cat = torch.cat([tensor1, tensor3], dim=-1)\n",
    "print(cat.shape)"
   ]
  },
  {
   "cell_type": "code",
   "execution_count": null,
   "id": "abec7ea2",
   "metadata": {},
   "outputs": [
    {
     "name": "stdout",
     "output_type": "stream",
     "text": [
      "Default weight dtype: torch.float16\n",
      "output data shape = torch.Size([4, 1024, 320]),  and dtype = torch.float16\n"
     ]
    }
   ],
   "source": [
    "import torch \n",
    "from torch import nn \n",
    "\n",
    "dim = 320\n",
    "norm1 = nn.LayerNorm(dim)\n",
    "\n",
    "# print(f\"Default weight dtype: {norm1.weight.dtype} and weight: {norm1.weight}\")\n",
    "\n",
    "x = torch.randn(4, 1024, 320).half()\n",
    "output  = norm1(x)\n",
    "print(f\"Default weight dtype: {norm1.weight.dtype}\")\n",
    "\n",
    "print(f\"output data shape = {output.shape},  and dtype = {output.dtype}\")"
   ]
  },
  {
   "cell_type": "code",
   "execution_count": 2,
   "id": "2e7ab63f",
   "metadata": {},
   "outputs": [
    {
     "name": "stdout",
     "output_type": "stream",
     "text": [
      "check the data type : torch.Size([4, 1024, 320]) and dtype: >> torch.float16\n",
      "check then norm weight dtype: torch.float16\n",
      "tensor([[[-2.0156,  1.1787, -0.9048,  ..., -0.0036,  0.5425, -0.7183],\n",
      "         [ 0.3550, -0.1030, -1.4951,  ..., -0.4138,  0.9863,  0.2537],\n",
      "         [ 0.5449,  0.7588,  0.2197,  ..., -0.7993,  1.9043,  0.2949],\n",
      "         ...,\n",
      "         [-0.3972,  0.6577, -0.9048,  ...,  0.1310, -0.7168,  0.3237],\n",
      "         [ 0.6118,  1.5967,  0.2275,  ..., -0.2761, -0.8394, -2.0273],\n",
      "         [ 0.3752,  0.5117, -0.3457,  ...,  0.4788,  0.3398, -0.8193]],\n",
      "\n",
      "        [[ 0.9663,  0.0461, -1.0322,  ..., -1.1504,  0.6172, -0.9375],\n",
      "         [ 0.3652,  0.6108,  0.4763,  ...,  0.5688, -0.9219,  0.1488],\n",
      "         [-1.2627, -1.2295, -2.4238,  ...,  0.2852, -1.3398,  0.8535],\n",
      "         ...,\n",
      "         [-0.3623, -0.5938,  0.1268,  ..., -2.7051,  0.9341,  0.4963],\n",
      "         [ 1.1455,  0.5093,  0.0571,  ...,  0.5273, -1.9756,  0.3110],\n",
      "         [ 0.9019, -1.2451,  1.0400,  ...,  0.1530,  0.1041,  0.3350]],\n",
      "\n",
      "        [[ 0.0507, -0.2671,  1.3994,  ...,  0.8394,  0.2205,  0.6445],\n",
      "         [-0.4824, -0.4211,  2.0176,  ...,  0.9355, -0.5029, -0.5850],\n",
      "         [-1.0420,  1.4795, -2.7871,  ..., -0.3997, -1.1230,  0.2032],\n",
      "         ...,\n",
      "         [-0.8086,  0.4915,  0.3684,  ..., -0.4763, -0.4443,  0.2466],\n",
      "         [ 0.2883, -0.5601,  0.2426,  ...,  1.9932,  0.4802, -0.3391],\n",
      "         [ 0.8096, -0.2167,  0.7847,  ..., -2.2715, -0.4819,  0.5737]],\n",
      "\n",
      "        [[-0.0652,  0.3582, -0.6187,  ...,  1.6875, -0.2283, -0.6489],\n",
      "         [ 1.2881, -2.3359, -1.0186,  ..., -0.0449,  1.6172,  1.2881],\n",
      "         [ 2.2148, -0.0961, -1.1084,  ...,  0.1047, -1.8311,  0.5571],\n",
      "         ...,\n",
      "         [-0.7266, -2.4785,  0.0484,  ...,  0.3975,  1.3877, -0.2225],\n",
      "         [ 1.0469, -1.2070,  0.3682,  ...,  0.3933, -0.5493,  0.1025],\n",
      "         [ 1.4492,  1.0801, -0.0754,  ...,  0.5278, -0.1161,  0.5728]]],\n",
      "       device='cuda:0', dtype=torch.float16, grad_fn=<NativeLayerNormBackward0>)\n"
     ]
    }
   ],
   "source": [
    "import torch \n",
    "from torch import nn \n",
    "\n",
    "class Testing(nn.Module):\n",
    "\n",
    "    def __init__(self,\n",
    "                 dim, \n",
    "                 ):\n",
    "        \n",
    "        super().__init__()\n",
    "        self.norm1 = nn.LayerNorm(dim)\n",
    "        \n",
    "\n",
    "    def forward(self, x, context=None):\n",
    "      \n",
    "        print(f\"check the data type : {x.shape} and dtype: >> {x.dtype}\")   # torch.Size([4, 1024, 320]) and dtype: >> torch.float16\n",
    "\n",
    "        print(f\"check then norm weight dtype: {self.norm1.weight.dtype}\")   # torch.float32\n",
    "        x = self.norm1(x)\n",
    "        \n",
    "\n",
    "        return x \n",
    "    \n",
    "\n",
    "output = Testing(dim=320).cuda().half()\n",
    "    \n",
    "x = torch.randn(4, 1024, 320).half().cuda()\n",
    "context = torch.randn(4, 77, 768).half().cuda()\n",
    "\n",
    "output = output(x)\n",
    "print(output)"
   ]
  },
  {
   "cell_type": "code",
   "execution_count": 6,
   "id": "76a94bef",
   "metadata": {},
   "outputs": [
    {
     "name": "stdout",
     "output_type": "stream",
     "text": [
      "what is the dtype of input data x [class-GELU]: tensor([   4., 1024.,  320.], dtype=torch.float16) and let's check the weight of dtype : torch.float16\n"
     ]
    },
    {
     "ename": "RuntimeError",
     "evalue": "mat1 and mat2 shapes cannot be multiplied (1x3 and 320x2560)",
     "output_type": "error",
     "traceback": [
      "\u001b[0;31m---------------------------------------------------------------------------\u001b[0m",
      "\u001b[0;31mRuntimeError\u001b[0m                              Traceback (most recent call last)",
      "Cell \u001b[0;32mIn[6], line 21\u001b[0m\n\u001b[1;32m     16\u001b[0m output \u001b[38;5;241m=\u001b[39m GELU(dim_in\u001b[38;5;241m=\u001b[39m\u001b[38;5;241m320\u001b[39m,\n\u001b[1;32m     17\u001b[0m                 dim_out\u001b[38;5;241m=\u001b[39m\u001b[38;5;241m1280\u001b[39m\n\u001b[1;32m     18\u001b[0m )\n\u001b[1;32m     20\u001b[0m x \u001b[38;5;241m=\u001b[39m torch\u001b[38;5;241m.\u001b[39mtensor([\u001b[38;5;241m4\u001b[39m, \u001b[38;5;241m1024\u001b[39m, \u001b[38;5;241m320\u001b[39m])\u001b[38;5;241m.\u001b[39mhalf()\n\u001b[0;32m---> 21\u001b[0m output \u001b[38;5;241m=\u001b[39m \u001b[43moutput\u001b[49m\u001b[43m(\u001b[49m\u001b[43mx\u001b[49m\u001b[43m)\u001b[49m\n\u001b[1;32m     22\u001b[0m output\n",
      "File \u001b[0;32m~/anaconda3/envs/cuda121/lib/python3.10/site-packages/torch/nn/modules/module.py:1736\u001b[0m, in \u001b[0;36mModule._wrapped_call_impl\u001b[0;34m(self, *args, **kwargs)\u001b[0m\n\u001b[1;32m   1734\u001b[0m     \u001b[38;5;28;01mreturn\u001b[39;00m \u001b[38;5;28mself\u001b[39m\u001b[38;5;241m.\u001b[39m_compiled_call_impl(\u001b[38;5;241m*\u001b[39margs, \u001b[38;5;241m*\u001b[39m\u001b[38;5;241m*\u001b[39mkwargs)  \u001b[38;5;66;03m# type: ignore[misc]\u001b[39;00m\n\u001b[1;32m   1735\u001b[0m \u001b[38;5;28;01melse\u001b[39;00m:\n\u001b[0;32m-> 1736\u001b[0m     \u001b[38;5;28;01mreturn\u001b[39;00m \u001b[38;5;28;43mself\u001b[39;49m\u001b[38;5;241;43m.\u001b[39;49m\u001b[43m_call_impl\u001b[49m\u001b[43m(\u001b[49m\u001b[38;5;241;43m*\u001b[39;49m\u001b[43margs\u001b[49m\u001b[43m,\u001b[49m\u001b[43m \u001b[49m\u001b[38;5;241;43m*\u001b[39;49m\u001b[38;5;241;43m*\u001b[39;49m\u001b[43mkwargs\u001b[49m\u001b[43m)\u001b[49m\n",
      "File \u001b[0;32m~/anaconda3/envs/cuda121/lib/python3.10/site-packages/torch/nn/modules/module.py:1747\u001b[0m, in \u001b[0;36mModule._call_impl\u001b[0;34m(self, *args, **kwargs)\u001b[0m\n\u001b[1;32m   1742\u001b[0m \u001b[38;5;66;03m# If we don't have any hooks, we want to skip the rest of the logic in\u001b[39;00m\n\u001b[1;32m   1743\u001b[0m \u001b[38;5;66;03m# this function, and just call forward.\u001b[39;00m\n\u001b[1;32m   1744\u001b[0m \u001b[38;5;28;01mif\u001b[39;00m \u001b[38;5;129;01mnot\u001b[39;00m (\u001b[38;5;28mself\u001b[39m\u001b[38;5;241m.\u001b[39m_backward_hooks \u001b[38;5;129;01mor\u001b[39;00m \u001b[38;5;28mself\u001b[39m\u001b[38;5;241m.\u001b[39m_backward_pre_hooks \u001b[38;5;129;01mor\u001b[39;00m \u001b[38;5;28mself\u001b[39m\u001b[38;5;241m.\u001b[39m_forward_hooks \u001b[38;5;129;01mor\u001b[39;00m \u001b[38;5;28mself\u001b[39m\u001b[38;5;241m.\u001b[39m_forward_pre_hooks\n\u001b[1;32m   1745\u001b[0m         \u001b[38;5;129;01mor\u001b[39;00m _global_backward_pre_hooks \u001b[38;5;129;01mor\u001b[39;00m _global_backward_hooks\n\u001b[1;32m   1746\u001b[0m         \u001b[38;5;129;01mor\u001b[39;00m _global_forward_hooks \u001b[38;5;129;01mor\u001b[39;00m _global_forward_pre_hooks):\n\u001b[0;32m-> 1747\u001b[0m     \u001b[38;5;28;01mreturn\u001b[39;00m \u001b[43mforward_call\u001b[49m\u001b[43m(\u001b[49m\u001b[38;5;241;43m*\u001b[39;49m\u001b[43margs\u001b[49m\u001b[43m,\u001b[49m\u001b[43m \u001b[49m\u001b[38;5;241;43m*\u001b[39;49m\u001b[38;5;241;43m*\u001b[39;49m\u001b[43mkwargs\u001b[49m\u001b[43m)\u001b[49m\n\u001b[1;32m   1749\u001b[0m result \u001b[38;5;241m=\u001b[39m \u001b[38;5;28;01mNone\u001b[39;00m\n\u001b[1;32m   1750\u001b[0m called_always_called_hooks \u001b[38;5;241m=\u001b[39m \u001b[38;5;28mset\u001b[39m()\n",
      "Cell \u001b[0;32mIn[6], line 11\u001b[0m, in \u001b[0;36mGELU.forward\u001b[0;34m(self, x)\u001b[0m\n\u001b[1;32m      8\u001b[0m \u001b[38;5;28;01mdef\u001b[39;00m\u001b[38;5;250m \u001b[39m\u001b[38;5;21mforward\u001b[39m(\u001b[38;5;28mself\u001b[39m, x):\n\u001b[1;32m      9\u001b[0m     \u001b[38;5;28mprint\u001b[39m(\u001b[38;5;124mf\u001b[39m\u001b[38;5;124m\"\u001b[39m\u001b[38;5;124mwhat is the dtype of input data x [class-GELU]: \u001b[39m\u001b[38;5;132;01m{\u001b[39;00mx\u001b[38;5;132;01m}\u001b[39;00m\u001b[38;5;124m and let\u001b[39m\u001b[38;5;124m'\u001b[39m\u001b[38;5;124ms check the weight of dtype : \u001b[39m\u001b[38;5;132;01m{\u001b[39;00m\u001b[38;5;28mself\u001b[39m\u001b[38;5;241m.\u001b[39mproj\u001b[38;5;241m.\u001b[39mweight\u001b[38;5;241m.\u001b[39mdtype\u001b[38;5;132;01m}\u001b[39;00m\u001b[38;5;124m\"\u001b[39m)\n\u001b[0;32m---> 11\u001b[0m     x, gate \u001b[38;5;241m=\u001b[39m \u001b[38;5;28;43mself\u001b[39;49m\u001b[38;5;241;43m.\u001b[39;49m\u001b[43mproj\u001b[49m\u001b[43m(\u001b[49m\u001b[43mx\u001b[49m\u001b[43m)\u001b[49m\u001b[38;5;241m.\u001b[39mchunk(\u001b[38;5;241m2\u001b[39m, dim\u001b[38;5;241m=\u001b[39m\u001b[38;5;241m-\u001b[39m\u001b[38;5;241m1\u001b[39m)\n\u001b[1;32m     12\u001b[0m     \u001b[38;5;28;01mreturn\u001b[39;00m x \u001b[38;5;241m*\u001b[39m nn\u001b[38;5;241m.\u001b[39mfunctional\u001b[38;5;241m.\u001b[39mgelu(gate)\n",
      "File \u001b[0;32m~/anaconda3/envs/cuda121/lib/python3.10/site-packages/torch/nn/modules/module.py:1736\u001b[0m, in \u001b[0;36mModule._wrapped_call_impl\u001b[0;34m(self, *args, **kwargs)\u001b[0m\n\u001b[1;32m   1734\u001b[0m     \u001b[38;5;28;01mreturn\u001b[39;00m \u001b[38;5;28mself\u001b[39m\u001b[38;5;241m.\u001b[39m_compiled_call_impl(\u001b[38;5;241m*\u001b[39margs, \u001b[38;5;241m*\u001b[39m\u001b[38;5;241m*\u001b[39mkwargs)  \u001b[38;5;66;03m# type: ignore[misc]\u001b[39;00m\n\u001b[1;32m   1735\u001b[0m \u001b[38;5;28;01melse\u001b[39;00m:\n\u001b[0;32m-> 1736\u001b[0m     \u001b[38;5;28;01mreturn\u001b[39;00m \u001b[38;5;28;43mself\u001b[39;49m\u001b[38;5;241;43m.\u001b[39;49m\u001b[43m_call_impl\u001b[49m\u001b[43m(\u001b[49m\u001b[38;5;241;43m*\u001b[39;49m\u001b[43margs\u001b[49m\u001b[43m,\u001b[49m\u001b[43m \u001b[49m\u001b[38;5;241;43m*\u001b[39;49m\u001b[38;5;241;43m*\u001b[39;49m\u001b[43mkwargs\u001b[49m\u001b[43m)\u001b[49m\n",
      "File \u001b[0;32m~/anaconda3/envs/cuda121/lib/python3.10/site-packages/torch/nn/modules/module.py:1747\u001b[0m, in \u001b[0;36mModule._call_impl\u001b[0;34m(self, *args, **kwargs)\u001b[0m\n\u001b[1;32m   1742\u001b[0m \u001b[38;5;66;03m# If we don't have any hooks, we want to skip the rest of the logic in\u001b[39;00m\n\u001b[1;32m   1743\u001b[0m \u001b[38;5;66;03m# this function, and just call forward.\u001b[39;00m\n\u001b[1;32m   1744\u001b[0m \u001b[38;5;28;01mif\u001b[39;00m \u001b[38;5;129;01mnot\u001b[39;00m (\u001b[38;5;28mself\u001b[39m\u001b[38;5;241m.\u001b[39m_backward_hooks \u001b[38;5;129;01mor\u001b[39;00m \u001b[38;5;28mself\u001b[39m\u001b[38;5;241m.\u001b[39m_backward_pre_hooks \u001b[38;5;129;01mor\u001b[39;00m \u001b[38;5;28mself\u001b[39m\u001b[38;5;241m.\u001b[39m_forward_hooks \u001b[38;5;129;01mor\u001b[39;00m \u001b[38;5;28mself\u001b[39m\u001b[38;5;241m.\u001b[39m_forward_pre_hooks\n\u001b[1;32m   1745\u001b[0m         \u001b[38;5;129;01mor\u001b[39;00m _global_backward_pre_hooks \u001b[38;5;129;01mor\u001b[39;00m _global_backward_hooks\n\u001b[1;32m   1746\u001b[0m         \u001b[38;5;129;01mor\u001b[39;00m _global_forward_hooks \u001b[38;5;129;01mor\u001b[39;00m _global_forward_pre_hooks):\n\u001b[0;32m-> 1747\u001b[0m     \u001b[38;5;28;01mreturn\u001b[39;00m \u001b[43mforward_call\u001b[49m\u001b[43m(\u001b[49m\u001b[38;5;241;43m*\u001b[39;49m\u001b[43margs\u001b[49m\u001b[43m,\u001b[49m\u001b[43m \u001b[49m\u001b[38;5;241;43m*\u001b[39;49m\u001b[38;5;241;43m*\u001b[39;49m\u001b[43mkwargs\u001b[49m\u001b[43m)\u001b[49m\n\u001b[1;32m   1749\u001b[0m result \u001b[38;5;241m=\u001b[39m \u001b[38;5;28;01mNone\u001b[39;00m\n\u001b[1;32m   1750\u001b[0m called_always_called_hooks \u001b[38;5;241m=\u001b[39m \u001b[38;5;28mset\u001b[39m()\n",
      "File \u001b[0;32m~/anaconda3/envs/cuda121/lib/python3.10/site-packages/torch/nn/modules/linear.py:125\u001b[0m, in \u001b[0;36mLinear.forward\u001b[0;34m(self, input)\u001b[0m\n\u001b[1;32m    124\u001b[0m \u001b[38;5;28;01mdef\u001b[39;00m\u001b[38;5;250m \u001b[39m\u001b[38;5;21mforward\u001b[39m(\u001b[38;5;28mself\u001b[39m, \u001b[38;5;28minput\u001b[39m: Tensor) \u001b[38;5;241m-\u001b[39m\u001b[38;5;241m>\u001b[39m Tensor:\n\u001b[0;32m--> 125\u001b[0m     \u001b[38;5;28;01mreturn\u001b[39;00m \u001b[43mF\u001b[49m\u001b[38;5;241;43m.\u001b[39;49m\u001b[43mlinear\u001b[49m\u001b[43m(\u001b[49m\u001b[38;5;28;43minput\u001b[39;49m\u001b[43m,\u001b[49m\u001b[43m \u001b[49m\u001b[38;5;28;43mself\u001b[39;49m\u001b[38;5;241;43m.\u001b[39;49m\u001b[43mweight\u001b[49m\u001b[43m,\u001b[49m\u001b[43m \u001b[49m\u001b[38;5;28;43mself\u001b[39;49m\u001b[38;5;241;43m.\u001b[39;49m\u001b[43mbias\u001b[49m\u001b[43m)\u001b[49m\n",
      "\u001b[0;31mRuntimeError\u001b[0m: mat1 and mat2 shapes cannot be multiplied (1x3 and 320x2560)"
     ]
    }
   ],
   "source": [
    "class GELU(nn.Module):\n",
    "\n",
    "    def __init__(self, dim_in, dim_out):\n",
    "        super().__init__()\n",
    "        self.proj = nn.Linear(dim_in, dim_out * 2).half()\n",
    "\n",
    "\n",
    "    def forward(self, x):\n",
    "        print(f\"what is the dtype of input data x [class-GELU]: {x} and let's check the weight of dtype : {self.proj.weight.dtype}\")\n",
    "    \n",
    "        x, gate = self.proj(x).chunk(2, dim=-1)\n",
    "        return x * nn.functional.gelu(gate)\n",
    "\n",
    "\n",
    "\n",
    "output = GELU(dim_in=320,\n",
    "                dim_out=1280\n",
    ")\n",
    "\n",
    "x = torch.tensor([4, 1024, 320]).half()\n",
    "output = output(x)\n",
    "output\n",
    "\n"
   ]
  },
  {
   "cell_type": "code",
   "execution_count": null,
   "id": "685e5132",
   "metadata": {},
   "outputs": [],
   "source": []
  }
 ],
 "metadata": {
  "kernelspec": {
   "display_name": "cuda121",
   "language": "python",
   "name": "python3"
  },
  "language_info": {
   "codemirror_mode": {
    "name": "ipython",
    "version": 3
   },
   "file_extension": ".py",
   "mimetype": "text/x-python",
   "name": "python",
   "nbconvert_exporter": "python",
   "pygments_lexer": "ipython3",
   "version": "3.10.16"
  }
 },
 "nbformat": 4,
 "nbformat_minor": 5
}
